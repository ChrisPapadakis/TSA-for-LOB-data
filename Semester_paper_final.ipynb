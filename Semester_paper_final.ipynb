{
 "cells": [
  {
   "cell_type": "markdown",
   "metadata": {},
   "source": [
    "## Import Packages"
   ]
  },
  {
   "cell_type": "code",
   "execution_count": 1,
   "metadata": {},
   "outputs": [],
   "source": [
    "import pandas as pd\n",
    "import numpy as np\n",
    "from datetime import datetime\n",
    "\n",
    "##for plotting\n",
    "import matplotlib.pyplot as plt\n",
    "import seaborn as sns\n",
    "\n",
    "from statsmodels.graphics.tsaplots import plot_acf\n",
    "\n",
    "\n",
    "#for csv's\n",
    "import os\n",
    "import glob\n",
    "import re"
   ]
  },
  {
   "cell_type": "markdown",
   "metadata": {},
   "source": [
    "## Functions Used"
   ]
  },
  {
   "cell_type": "code",
   "execution_count": 2,
   "metadata": {},
   "outputs": [],
   "source": [
    "## Convert the data frame index to a datetime index\n",
    "def to_datatime_index(data, file_name):\n",
    "\n",
    "    d_time = data.time.values\n",
    "\n",
    "    ## Hold 3 digits\n",
    "    d_time_string = [str(time)[0:10] for time in d_time]\n",
    "\n",
    "    timestamp_time = [datetime.strptime(x,\"%H%M%S.%f\") for x in d_time_string]\n",
    "\n",
    "    ## Add date\n",
    "    date_time = [ timestamp_time[i].replace(year = int(file_name[8:12]), month = int(file_name[12:14]), day = int(file_name[14:16]))\n",
    "     for i in range(data.shape[0]) ]\n",
    "\n",
    "    ## Set timestamp index to the entire data\n",
    "    data.index = date_time\n",
    "\n",
    "    ## Replace old 'time' column\n",
    "    data.drop(['time'], axis = 1, inplace = True)\n",
    "\n",
    "    data.index.name = 'Date-time'\n",
    "\n",
    "    return data"
   ]
  },
  {
   "cell_type": "code",
   "execution_count": 3,
   "metadata": {},
   "outputs": [],
   "source": [
    "def choose_months(t_0,t_1):\n",
    "    \n",
    "    out = []\n",
    "    \n",
    "    ## Make list of the numbers of months\n",
    "    if (t_0[0] == '0') & (t_1[0] == '0'):\n",
    "        \n",
    "        month_nums = ['0{}'.format(str(x)) for x in range(int(t_0),int(t_1)+1)]\n",
    "    \n",
    "    elif (t_0[0] == '0'):\n",
    "        \n",
    "        s_1 = ['0{}'.format(str(x)) for x in range(int(t_0),10)]\n",
    "\n",
    "        s_2 = ['{}'.format(str(x)) for x in range(10,int(t_1)+1)]\n",
    "\n",
    "        month_nums =  s_1 + s_2\n",
    "    \n",
    "    else:\n",
    "        \n",
    "        month_nums =  ['{}'.format(str(x)) for x in range(int(t_0),int(t_1)+1)]\n",
    "        \n",
    "    ## Fill in the empty 'out' with\n",
    "    ## all selected months.\n",
    "    for num in month_nums:\n",
    "        \n",
    "        out.append(select_month(num))\n",
    "        \n",
    "     ## Create the final dataframe by\n",
    "    ## concatination of out\n",
    "    return pd.concat(out)"
   ]
  },
  {
   "cell_type": "code",
   "execution_count": 4,
   "metadata": {},
   "outputs": [],
   "source": [
    "def select_month(month):\n",
    "    \n",
    "    select = []\n",
    "    \n",
    "    for i in range(len(all_filenames)):\n",
    "    \n",
    "        if all_filenames[i][12:14] == str(month):\n",
    "\n",
    "            temp = pd.read_csv(all_filenames[i])\n",
    "    \n",
    "            temp = to_datatime_index(data = temp, file_name = str(all_filenames[i]))\n",
    "        \n",
    "            select.append(temp)\n",
    "            \n",
    "    return pd.concat(select)"
   ]
  },
  {
   "cell_type": "code",
   "execution_count": 5,
   "metadata": {},
   "outputs": [],
   "source": [
    "def get_mean_t(prices, weights):\n",
    "    \n",
    "    temp = weights.mul(prices.values)\n",
    "    \n",
    "    out = pd.DataFrame(temp.sum(axis = 1))\n",
    "    \n",
    "    out.columns = ['W.Mean']\n",
    "    \n",
    "    return out "
   ]
  },
  {
   "cell_type": "code",
   "execution_count": 6,
   "metadata": {},
   "outputs": [],
   "source": [
    "def get_var_t(in_prices, in_weights):\n",
    "    \n",
    "    w_mean = get_mean_t(in_prices, in_weights)\n",
    "    \n",
    "    temp = in_prices.sub(w_mean.values)\n",
    "\n",
    "    temp2 = temp.pow(2)\n",
    "\n",
    "    temp3 = in_weights.mul(temp2.values)\n",
    "    \n",
    "    out = pd.DataFrame(temp3.sum(axis = 1))\n",
    "    \n",
    "    out.columns = ['W.Var']\n",
    "    \n",
    "    return out"
   ]
  },
  {
   "cell_type": "code",
   "execution_count": 7,
   "metadata": {},
   "outputs": [],
   "source": [
    "def get_data():\n",
    "    \n",
    "    time = input('Day, Month or Period?')\n",
    "    \n",
    "    if time == 'd':\n",
    "\n",
    "        date = input('Give date in month/date XXXX format')\n",
    "        \n",
    "        name =  'GARAN.E_2017{}.csv'.format(str(date))\n",
    "    \n",
    "        data = pd.read_csv('GARAN.E_2017{}.csv'.format(str(date)))\n",
    "        \n",
    "        data = to_datatime_index(data, name)\n",
    "\n",
    "    elif time == 'm':\n",
    "    \n",
    "        month_input = str(input('Give month : '))\n",
    "    \n",
    "        data = select_month(month_input)  \n",
    "    \n",
    "    elif time == 'p':\n",
    "    \n",
    "        start = input('Start month : ')\n",
    "        end = input('End month : ')\n",
    "    \n",
    "        data = choose_months(start,end)  \n",
    "        \n",
    "    return data"
   ]
  },
  {
   "cell_type": "code",
   "execution_count": 8,
   "metadata": {},
   "outputs": [],
   "source": [
    "def disp_stats(data):\n",
    "    \n",
    "    bids_t = data[['bid1','bid2','bid3','bid4','bid5']]\n",
    "\n",
    "    bsizes_t = data[['bsize1','bsize2','bsize3','bsize4','bsize5']]\n",
    "\n",
    "    asks_t = data[['ask1','ask2','ask3','ask4','ask5']]\n",
    "\n",
    "    asizes_t = data[['asize1','asize2','asize3','asize4','asize5']]\n",
    "    \n",
    "    bids_max_t = bids_t.max(axis = 1)\n",
    "    \n",
    "#     bids_max_vol_t = bsizes_t[]\n",
    "    \n",
    "    asks_min_t = asks_t.min(axis = 1)\n",
    "    \n",
    "    ## Calculate bid/ask weights:\n",
    "    ## Divide each row (axis = 0) by the \n",
    "    ## corresponding row sum (axis = 1)of bsizes \n",
    "    bweights = bsizes_t.div(bsizes_t.sum(axis = 1), axis = 0)\n",
    "\n",
    "    aweights = asizes_t.div(asizes_t.sum(axis = 1), axis = 0)\n",
    "    \n",
    "    midpoint_price = (bids_max_t+asks_min_t)/2\n",
    "    \n",
    "    bid_w_mean = get_mean_t(bids_t, bweights)\n",
    "    \n",
    "    bids_w_var = get_var_t(bids_t, bweights)\n",
    "    \n",
    "    asks_w_mean = get_mean_t(asks_t, aweights)\n",
    "    \n",
    "    asks_w_var = get_var_t(asks_t, aweights)\n",
    "    \n",
    "    ## Spread = difference between best bid and ask price for every t\n",
    "    spread = pd.DataFrame(asks_t.min(axis = 1) - bids_t.max(axis = 1))\n",
    "    \n",
    "    out =  pd.concat([midpoint_price, \n",
    "                     bid_w_mean, bids_w_var, \n",
    "                     asks_w_mean, asks_w_var, \n",
    "                     bids_max_t, asks_min_t, \n",
    "                     spread], axis = 1)\n",
    "    \n",
    "    out.columns = ['Midpoint Price','Bids W.Mean', 'Bids W.Var', 'Asks W.Mean', 'Asks W.Var', 'Best Bid', 'Best Ask','Spread']\n",
    "    \n",
    "#     out['Spread'] = diff.values\n",
    "    \n",
    "    return out"
   ]
  },
  {
   "cell_type": "code",
   "execution_count": 9,
   "metadata": {},
   "outputs": [],
   "source": [
    "def from_mult_index_to_dt(data):\n",
    "\n",
    "    timestamp_time = [datetime(year = 2017,\n",
    "                     month = data.index[row][0], \n",
    "                     day = data.index[row][1],\n",
    "                     hour = data.index[row][2],\n",
    "                     minute = data.index[row][3]) for row in range(len(data.index))]\n",
    "    \n",
    "    data.index = timestamp_time\n",
    "    data.index.name = 'Date-time'\n",
    "    \n",
    "    return data"
   ]
  },
  {
   "cell_type": "code",
   "execution_count": 10,
   "metadata": {},
   "outputs": [],
   "source": [
    "def change_freq(df, freq = '1min'):\n",
    "    \n",
    "    ls_out = []\n",
    "    ind_out = []\n",
    "    \n",
    "    ## Create Multiindex for Y,M,D,h,m,s,ms\n",
    "    grouped = user_data.groupby([user_data.index.year, \n",
    "                             user_data.index.month, \n",
    "                             user_data.index.day, \n",
    "                             user_data.index.hour, \n",
    "                             user_data.index.minute,\n",
    "                             user_data.index.second,\n",
    "                             user_data.index.microsecond]).first()\n",
    "\n",
    "    grouped.index.names = ['Year',\n",
    "                           'Month',\n",
    "                           'Day',\n",
    "                           'Hour',\n",
    "                           'Minute',\n",
    "                           'Second',\n",
    "                           'Microsecond'] \n",
    "    \n",
    "    for month in np.unique(grouped.index.get_level_values('Month')):\n",
    "        data_month = grouped[grouped.index.get_level_values('Month') == int(month)]\n",
    "        data_days_in_month = data_month.loc[2017,int(month),]\n",
    "        \n",
    "        for day in np.unique(data_days_in_month.index.get_level_values('Day')):\n",
    "            data_day = data_days_in_month[data_days_in_month.index.get_level_values('Day') == day]\n",
    "            data_hour = data_day.loc[day,]\n",
    "    \n",
    "            for hour in np.unique(data_hour.index.get_level_values('Hour')):\n",
    "                data_minute = grouped[grouped.index.get_level_values('Minute') == int(hour)]\n",
    "                data_minute = data_hour.loc[int(hour),]\n",
    "    \n",
    "                for minute in np.unique(data_minute.index.get_level_values('Minute')):\n",
    "                    data_sec = data_minute.loc[minute,]\n",
    "                    ## Store the last value of the last second of minute\n",
    "                    ls_out.append(data_sec.tail(1))\n",
    "                    ind_out.append((month,day,hour,minute))\n",
    "\n",
    "    ls_out = pd.concat(ls_out)\n",
    "    ls_out.index = pd.MultiIndex.from_tuples(ind_out, names = ['Month','Day','Hour','Minute'])\n",
    "\n",
    "    return from_mult_index_to_dt(ls_out)"
   ]
  },
  {
   "cell_type": "code",
   "execution_count": 11,
   "metadata": {},
   "outputs": [],
   "source": [
    "def get_densities(data, what):\n",
    "    \n",
    "    if str(what) == 'bid':\n",
    "        bids = data[['bid1','bid2','bid3','bid4','bid5']]\n",
    "        bsize = data[['bsize1','bsize2','bsize3','bsize4','bsize5']]\n",
    "        total_bsize = bsize.sum(axis = 1)\n",
    "        bweights = bsize.div(total_bsize, axis = 0)\n",
    "        out =  pd.concat([bids, bweights, total_bsize], axis = 1)\n",
    "        out.columns = ['Bid 1','Bid 2','Bid 3','Bid 4','Bid 5',\n",
    "                       'Bid Weight 1','Bid Weight 2','Bid Weight 3','Bid Weight 4','Bid Weight 5',\n",
    "                       'Total Size']\n",
    "    \n",
    "    elif str(what) == 'ask':\n",
    "        asks = data[['ask1','ask2','ask3','ask4','ask5']]\n",
    "        asize = data[['asize1','asize2','asize3','asize4','asize5']]\n",
    "        total_asize = asize.sum(axis = 1)\n",
    "        aweights = asize.div(total_asize, axis = 0)\n",
    "        out =  pd.concat([asks, aweights, total_asize], axis = 1)\n",
    "        out.columns = ['Ask 1','Ask 2','Ask 3','Ask 4','Ask 5',\n",
    "                       'Ask Weight 1','Ask Weight 2','Ask Weight 3','Ask Weight 4','Ask Weight 5',\n",
    "                       'Total Size']\n",
    "        \n",
    "    return out"
   ]
  },
  {
   "cell_type": "code",
   "execution_count": 12,
   "metadata": {},
   "outputs": [],
   "source": [
    "def moments(data, up_to):\n",
    "    \n",
    "    store = []\n",
    "    \n",
    "    for i in range(1, up_to + 1):\n",
    "        store.append(data.iloc[:,:5].pow(i,axis = 1).mul(data.iloc[:,5:10].values, axis = 1).sum(axis = 1))\n",
    "        \n",
    "    out = pd.concat(store, axis = 1)\n",
    "    \n",
    "    out.columns = ['1st Moment','2nd Moment','3rd Moment','4th Moment']\n",
    "    \n",
    "    return out"
   ]
  },
  {
   "cell_type": "code",
   "execution_count": 13,
   "metadata": {},
   "outputs": [],
   "source": [
    "# Data must be in minutes\n",
    "def change_freq2(data):\n",
    "    \n",
    "    days = np.unique(data.index.strftime(\"%Y-%m-%d\"))\n",
    "    \n",
    "    out = []\n",
    "    \n",
    "    for day in days:\n",
    "        \n",
    "        ind1 = pd.date_range(start = '{} 10:10:00'.format(day),end = '{} 12:50:00'.format(day), freq = 'min')\n",
    "        ind2 = pd.date_range(start = '{} 14:10:00'.format(day),end = '{} 17:50:00'.format(day), freq = 'min')\n",
    "\n",
    "        correct_ind = ind1.append(ind2)\n",
    "        \n",
    "        df1 = data.loc[day][(data.loc[day].index.strftime(\"%H:%M:%S\") >= '10:10') \n",
    "                                 & (data.loc[day].index.strftime(\"%H:%M:%S\") <= '12:51')]\n",
    "\n",
    "        df2 = data.loc[day][(data.loc[day].index.strftime(\"%H:%M:%S\") >= '14:10') \n",
    "                                & (data.loc[day].index.strftime(\"%H:%M:%S\") <= '17:51')]\n",
    "\n",
    "        df3 = pd.concat([df1,df2])\n",
    "        \n",
    "        temp_df = pd.DataFrame(index = correct_ind, columns=df3.columns)\n",
    "\n",
    "        ind = 0\n",
    "        j = 0\n",
    "        \n",
    "        while ind < len(correct_ind):\n",
    "\n",
    "            while j < len(df3.index):\n",
    "\n",
    "                if temp_df.index.strftime(\"%H:%M:%S\")[ind] == df3.index.strftime(\"%H:%M:%S\")[j]:\n",
    "                    temp_df.iloc[ind] = df3.iloc[j]\n",
    "                    ind += 1\n",
    "                    j += 1\n",
    "                else:\n",
    "                    temp_df.iloc[ind] = df3.iloc[j-1]\n",
    "                    ind += 1\n",
    "                    \n",
    "        out.append(temp_df)\n",
    "        \n",
    "            \n",
    "    return pd.concat(out)  "
   ]
  },
  {
   "cell_type": "markdown",
   "metadata": {},
   "source": [
    "## Read Data"
   ]
  },
  {
   "cell_type": "markdown",
   "metadata": {},
   "source": [
    "Sort the csv files in the data folder"
   ]
  },
  {
   "cell_type": "code",
   "execution_count": 14,
   "metadata": {},
   "outputs": [],
   "source": [
    "file_extension = \".csv\"\n",
    "\n",
    "all_filenames = [i for i in glob.glob(f\"*{file_extension}\")]\n",
    "\n",
    "all_filenames.sort(key=lambda c : list(\n",
    "    map(int, re.findall(r'\\d+', c)))[0])"
   ]
  },
  {
   "cell_type": "markdown",
   "metadata": {},
   "source": [
    "Type in \"d\" : for specific date in 2017-xx-xx form"
   ]
  },
  {
   "cell_type": "markdown",
   "metadata": {},
   "source": [
    "Type in \"m\" : for specific month in xx-form"
   ]
  },
  {
   "cell_type": "markdown",
   "metadata": {},
   "source": [
    "Type in \"p\" : for period from start month to end month in xx-form"
   ]
  },
  {
   "cell_type": "code",
   "execution_count": 16,
   "metadata": {},
   "outputs": [
    {
     "data": {
      "text/plain": [
       "[]"
      ]
     },
     "execution_count": 16,
     "metadata": {},
     "output_type": "execute_result"
    }
   ],
   "source": [
    "all_filenames"
   ]
  },
  {
   "cell_type": "code",
   "execution_count": 15,
   "metadata": {},
   "outputs": [
    {
     "name": "stdout",
     "output_type": "stream",
     "text": [
      "Day, Month or Period?p\n",
      "Start month : 01\n",
      "End month : 12\n"
     ]
    },
    {
     "ename": "ValueError",
     "evalue": "No objects to concatenate",
     "output_type": "error",
     "traceback": [
      "\u001b[0;31m---------------------------------------------------------------------------\u001b[0m",
      "\u001b[0;31mValueError\u001b[0m                                Traceback (most recent call last)",
      "\u001b[0;32m<ipython-input-15-f07468e9f992>\u001b[0m in \u001b[0;36m<module>\u001b[0;34m()\u001b[0m\n\u001b[0;32m----> 1\u001b[0;31m \u001b[0muser_data\u001b[0m \u001b[0;34m=\u001b[0m \u001b[0mget_data\u001b[0m\u001b[0;34m(\u001b[0m\u001b[0;34m)\u001b[0m\u001b[0;34m\u001b[0m\u001b[0;34m\u001b[0m\u001b[0m\n\u001b[0m",
      "\u001b[0;32m<ipython-input-7-774b0f2f83da>\u001b[0m in \u001b[0;36mget_data\u001b[0;34m()\u001b[0m\n\u001b[1;32m     24\u001b[0m         \u001b[0mend\u001b[0m \u001b[0;34m=\u001b[0m \u001b[0minput\u001b[0m\u001b[0;34m(\u001b[0m\u001b[0;34m'End month : '\u001b[0m\u001b[0;34m)\u001b[0m\u001b[0;34m\u001b[0m\u001b[0;34m\u001b[0m\u001b[0m\n\u001b[1;32m     25\u001b[0m \u001b[0;34m\u001b[0m\u001b[0m\n\u001b[0;32m---> 26\u001b[0;31m         \u001b[0mdata\u001b[0m \u001b[0;34m=\u001b[0m \u001b[0mchoose_months\u001b[0m\u001b[0;34m(\u001b[0m\u001b[0mstart\u001b[0m\u001b[0;34m,\u001b[0m\u001b[0mend\u001b[0m\u001b[0;34m)\u001b[0m\u001b[0;34m\u001b[0m\u001b[0;34m\u001b[0m\u001b[0m\n\u001b[0m\u001b[1;32m     27\u001b[0m \u001b[0;34m\u001b[0m\u001b[0m\n\u001b[1;32m     28\u001b[0m     \u001b[0;32mreturn\u001b[0m \u001b[0mdata\u001b[0m\u001b[0;34m\u001b[0m\u001b[0;34m\u001b[0m\u001b[0m\n",
      "\u001b[0;32m<ipython-input-3-ebca58bc1f81>\u001b[0m in \u001b[0;36mchoose_months\u001b[0;34m(t_0, t_1)\u001b[0m\n\u001b[1;32m     24\u001b[0m     \u001b[0;32mfor\u001b[0m \u001b[0mnum\u001b[0m \u001b[0;32min\u001b[0m \u001b[0mmonth_nums\u001b[0m\u001b[0;34m:\u001b[0m\u001b[0;34m\u001b[0m\u001b[0;34m\u001b[0m\u001b[0m\n\u001b[1;32m     25\u001b[0m \u001b[0;34m\u001b[0m\u001b[0m\n\u001b[0;32m---> 26\u001b[0;31m         \u001b[0mout\u001b[0m\u001b[0;34m.\u001b[0m\u001b[0mappend\u001b[0m\u001b[0;34m(\u001b[0m\u001b[0mselect_month\u001b[0m\u001b[0;34m(\u001b[0m\u001b[0mnum\u001b[0m\u001b[0;34m)\u001b[0m\u001b[0;34m)\u001b[0m\u001b[0;34m\u001b[0m\u001b[0;34m\u001b[0m\u001b[0m\n\u001b[0m\u001b[1;32m     27\u001b[0m \u001b[0;34m\u001b[0m\u001b[0m\n\u001b[1;32m     28\u001b[0m      \u001b[0;31m## Create the final dataframe by\u001b[0m\u001b[0;34m\u001b[0m\u001b[0;34m\u001b[0m\u001b[0;34m\u001b[0m\u001b[0m\n",
      "\u001b[0;32m<ipython-input-4-1f513a4a82f2>\u001b[0m in \u001b[0;36mselect_month\u001b[0;34m(month)\u001b[0m\n\u001b[1;32m     13\u001b[0m             \u001b[0mselect\u001b[0m\u001b[0;34m.\u001b[0m\u001b[0mappend\u001b[0m\u001b[0;34m(\u001b[0m\u001b[0mtemp\u001b[0m\u001b[0;34m)\u001b[0m\u001b[0;34m\u001b[0m\u001b[0;34m\u001b[0m\u001b[0m\n\u001b[1;32m     14\u001b[0m \u001b[0;34m\u001b[0m\u001b[0m\n\u001b[0;32m---> 15\u001b[0;31m     \u001b[0;32mreturn\u001b[0m \u001b[0mpd\u001b[0m\u001b[0;34m.\u001b[0m\u001b[0mconcat\u001b[0m\u001b[0;34m(\u001b[0m\u001b[0mselect\u001b[0m\u001b[0;34m)\u001b[0m\u001b[0;34m\u001b[0m\u001b[0;34m\u001b[0m\u001b[0m\n\u001b[0m",
      "\u001b[0;32m/opt/anaconda3/envs/AML/lib/python3.7/site-packages/pandas/core/reshape/concat.py\u001b[0m in \u001b[0;36mconcat\u001b[0;34m(objs, axis, join, ignore_index, keys, levels, names, verify_integrity, sort, copy)\u001b[0m\n\u001b[1;32m    282\u001b[0m         \u001b[0mverify_integrity\u001b[0m\u001b[0;34m=\u001b[0m\u001b[0mverify_integrity\u001b[0m\u001b[0;34m,\u001b[0m\u001b[0;34m\u001b[0m\u001b[0;34m\u001b[0m\u001b[0m\n\u001b[1;32m    283\u001b[0m         \u001b[0mcopy\u001b[0m\u001b[0;34m=\u001b[0m\u001b[0mcopy\u001b[0m\u001b[0;34m,\u001b[0m\u001b[0;34m\u001b[0m\u001b[0;34m\u001b[0m\u001b[0m\n\u001b[0;32m--> 284\u001b[0;31m         \u001b[0msort\u001b[0m\u001b[0;34m=\u001b[0m\u001b[0msort\u001b[0m\u001b[0;34m,\u001b[0m\u001b[0;34m\u001b[0m\u001b[0;34m\u001b[0m\u001b[0m\n\u001b[0m\u001b[1;32m    285\u001b[0m     )\n\u001b[1;32m    286\u001b[0m \u001b[0;34m\u001b[0m\u001b[0m\n",
      "\u001b[0;32m/opt/anaconda3/envs/AML/lib/python3.7/site-packages/pandas/core/reshape/concat.py\u001b[0m in \u001b[0;36m__init__\u001b[0;34m(self, objs, axis, join, keys, levels, names, ignore_index, verify_integrity, copy, sort)\u001b[0m\n\u001b[1;32m    329\u001b[0m \u001b[0;34m\u001b[0m\u001b[0m\n\u001b[1;32m    330\u001b[0m         \u001b[0;32mif\u001b[0m \u001b[0mlen\u001b[0m\u001b[0;34m(\u001b[0m\u001b[0mobjs\u001b[0m\u001b[0;34m)\u001b[0m \u001b[0;34m==\u001b[0m \u001b[0;36m0\u001b[0m\u001b[0;34m:\u001b[0m\u001b[0;34m\u001b[0m\u001b[0;34m\u001b[0m\u001b[0m\n\u001b[0;32m--> 331\u001b[0;31m             \u001b[0;32mraise\u001b[0m \u001b[0mValueError\u001b[0m\u001b[0;34m(\u001b[0m\u001b[0;34m\"No objects to concatenate\"\u001b[0m\u001b[0;34m)\u001b[0m\u001b[0;34m\u001b[0m\u001b[0;34m\u001b[0m\u001b[0m\n\u001b[0m\u001b[1;32m    332\u001b[0m \u001b[0;34m\u001b[0m\u001b[0m\n\u001b[1;32m    333\u001b[0m         \u001b[0;32mif\u001b[0m \u001b[0mkeys\u001b[0m \u001b[0;32mis\u001b[0m \u001b[0;32mNone\u001b[0m\u001b[0;34m:\u001b[0m\u001b[0;34m\u001b[0m\u001b[0;34m\u001b[0m\u001b[0m\n",
      "\u001b[0;31mValueError\u001b[0m: No objects to concatenate"
     ]
    }
   ],
   "source": [
    "user_data = get_data()"
   ]
  },
  {
   "cell_type": "markdown",
   "metadata": {},
   "source": [
    "Drop the \"order\" columns for bids and asks"
   ]
  },
  {
   "cell_type": "code",
   "execution_count": null,
   "metadata": {},
   "outputs": [],
   "source": [
    "user_data = user_data.drop(['bord1','bord2','bord3','bord4','bord5',\n",
    "               'aord1','aord2','aord3','aord4','aord5'], axis = 1)"
   ]
  },
  {
   "cell_type": "code",
   "execution_count": null,
   "metadata": {},
   "outputs": [],
   "source": [
    "user_data.head()"
   ]
  },
  {
   "cell_type": "code",
   "execution_count": null,
   "metadata": {},
   "outputs": [],
   "source": [
    "out = {}\n",
    "\n",
    "for day in np.unique(user_data.index.strftime(\"%Y-%m-%d\")):\n",
    "    print('Date : {} \\n Number of data points : {}'.format(str(day), user_data.loc[day].shape[0]))\n",
    "    out[str(day)] = user_data.loc[day].shape[0]"
   ]
  },
  {
   "cell_type": "code",
   "execution_count": null,
   "metadata": {},
   "outputs": [],
   "source": [
    "num_samples = pd.DataFrame(out.values(), index = out.keys())\n",
    "\n",
    "num_samples.describe().transpose()"
   ]
  },
  {
   "cell_type": "code",
   "execution_count": null,
   "metadata": {},
   "outputs": [],
   "source": [
    "fig, axes = plt.subplots(nrows=2, ncols=1, sharex=False, sharey=False, figsize=(12,8))\n",
    "\n",
    "axes[0].scatter([i for i in range(0,len(out))], out.values())\n",
    "axes[0].set_xlabel('Days')\n",
    "axes[0].set_ylabel('Sample size')\n",
    "axes[1].hist( out.values())\n",
    "axes[1].set_xlabel('Sample size')\n",
    "axes[1].set_ylabel('Frequency (%)')\n",
    "#plt.savefig('sample_frequency2.png')\n",
    "\n",
    "plt.show()"
   ]
  },
  {
   "cell_type": "markdown",
   "metadata": {},
   "source": [
    "## Lower Frequency in minutes"
   ]
  },
  {
   "cell_type": "code",
   "execution_count": null,
   "metadata": {},
   "outputs": [],
   "source": [
    "data_year_in_min = change_freq(user_data)"
   ]
  },
  {
   "cell_type": "code",
   "execution_count": null,
   "metadata": {},
   "outputs": [],
   "source": [
    "## Exclude half day 2017-08-31\n",
    "data_year_in_min = data_year_in_min[data_year_in_min.index.strftime(\"%Y-%m-%d\") != '2017-08-31']"
   ]
  },
  {
   "cell_type": "code",
   "execution_count": null,
   "metadata": {},
   "outputs": [],
   "source": [
    "## Cut into the time intervals and obtain the final data form\n",
    "data_in_min = change_freq2(data_year_in_min)"
   ]
  },
  {
   "cell_type": "code",
   "execution_count": null,
   "metadata": {},
   "outputs": [],
   "source": [
    "data_in_min[data_in_min.index.hour == 10].head()"
   ]
  },
  {
   "cell_type": "markdown",
   "metadata": {},
   "source": [
    "## Analysis"
   ]
  },
  {
   "cell_type": "markdown",
   "metadata": {},
   "source": [
    "Densities of bid and ask"
   ]
  },
  {
   "cell_type": "code",
   "execution_count": null,
   "metadata": {},
   "outputs": [],
   "source": [
    "bids_dens = get_densities(data_in_min, 'bid')\n",
    "bids_dens\n",
    "\n",
    "asks_dens = get_densities(data_year_in_min, 'ask')\n",
    "asks_dens"
   ]
  },
  {
   "cell_type": "markdown",
   "metadata": {},
   "source": [
    "Calculate the first four moments"
   ]
  },
  {
   "cell_type": "code",
   "execution_count": null,
   "metadata": {},
   "outputs": [],
   "source": [
    "bids_moments = moments(bids_dens, 4)\n",
    "bids_moments\n",
    "\n",
    "asks_moments = moments(asks_dens, 4)\n",
    "asks_moments"
   ]
  },
  {
   "cell_type": "markdown",
   "metadata": {},
   "source": [
    "Correlation grid for bid and ask moments"
   ]
  },
  {
   "cell_type": "code",
   "execution_count": null,
   "metadata": {},
   "outputs": [],
   "source": [
    "fig, axs = plt.subplots(4, 4, figsize = (16,16))\n",
    "\n",
    "corrMatrix = np.empty(shape = (4,4), dtype = float)\n",
    "\n",
    "for i in range(4):\n",
    "    for j in range(4):\n",
    "        \n",
    "        axs[i, j].scatter(bids_moments.iloc[:,i], asks_moments.iloc[:,j], s = 1)             \n",
    "        axs[i, j].set_title('Bid Moment {} vs Ask Moment {}'.format(i+1,j+1))\n",
    "        \n",
    "        ##Build Correlation Matrix\n",
    "        corrMatrix[i,j] = bids_moments.iloc[:,i].corr(asks_moments.iloc[:,j])\n"
   ]
  },
  {
   "cell_type": "markdown",
   "metadata": {},
   "source": [
    "Correlation matrix for the first 4 bid and ask moments"
   ]
  },
  {
   "cell_type": "code",
   "execution_count": null,
   "metadata": {},
   "outputs": [],
   "source": [
    "corr_df = pd.DataFrame(corrMatrix, index = ['Bid Moment {}'.format(i) for i in range(1,5)],\n",
    "                                   columns = ['Ask Moment {}'.format(i) for i in range(1,5)])"
   ]
  },
  {
   "cell_type": "markdown",
   "metadata": {},
   "source": [
    "## Midpoint Price"
   ]
  },
  {
   "cell_type": "markdown",
   "metadata": {},
   "source": [
    "Get data statistics"
   ]
  },
  {
   "cell_type": "code",
   "execution_count": null,
   "metadata": {},
   "outputs": [],
   "source": [
    "stats_in_min = disp_stats(data_in_min)"
   ]
  },
  {
   "cell_type": "markdown",
   "metadata": {},
   "source": [
    "Plot monthly midpoint price"
   ]
  },
  {
   "cell_type": "code",
   "execution_count": null,
   "metadata": {},
   "outputs": [],
   "source": [
    "import calendar\n",
    "# jtplot.style()\n",
    "\n",
    "fig, ax = plt.subplots(figsize = (20,12)) # Create a figure containing a single axes.\n",
    "\n",
    "\n",
    "for month in np.unique(stats_in_min.index.month):\n",
    "    \n",
    "    ax.plot(#stats_in_min[stats_in_min.index.month == month].index,\n",
    "            stats_in_min[stats_in_min.index.month == month]['Midpoint Price'].values, \n",
    "            label = calendar.month_name[month])  # Plot some data on the axes\n",
    "    ax.set_xlabel('Days')\n",
    "    ax.set_ylabel('Price')\n",
    "            \n",
    "\n",
    "ax.legend()\n",
    "# major_ticks = np.arange(0,31,4)\n",
    "# ax.set_xticks(major_ticks)\n",
    "plt.title('Yearly Midpoint Price for each month per minute')\n",
    "plt.savefig('midprice_Year_Minutes.png')\n",
    "plt.show()"
   ]
  },
  {
   "cell_type": "markdown",
   "metadata": {},
   "source": [
    "Descriptive statistics for every month"
   ]
  },
  {
   "cell_type": "code",
   "execution_count": null,
   "metadata": {},
   "outputs": [],
   "source": [
    "means = [] \n",
    "stds = []\n",
    "Max = []\n",
    "Min = []\n",
    "\n",
    "for month in np.unique(stats_in_min.index.month): \n",
    "    means.append(stats_in_min[stats_in_min.index.month == month]['Midpoint Price'].describe()['mean'])\n",
    "    stds.append(stats_in_min[stats_in_min.index.month == month]['Midpoint Price'].describe()['std'])\n",
    "    Max.append(stats_in_min[stats_in_min.index.month == month]['Midpoint Price'].describe()['max'])\n",
    "    Min.append(stats_in_min[stats_in_min.index.month == month]['Midpoint Price'].describe()['min'])\n",
    "        \n",
    "descriptives_df = pd.DataFrame([means,stds,Max,Min]).transpose()\n",
    "descriptives_df.index = [calendar.month_name[i] for i in range(1,13)]\n",
    "descriptives_df.columns = ['Mean','Std','Max','Min']\n",
    "descriptives_df"
   ]
  },
  {
   "cell_type": "markdown",
   "metadata": {},
   "source": [
    "Plot midpoint price for the whole year"
   ]
  },
  {
   "cell_type": "code",
   "execution_count": null,
   "metadata": {},
   "outputs": [],
   "source": [
    "fig, ax = plt.subplots(figsize = (20,12)) # Create a figure containing a single axes.\n",
    "    \n",
    "ax.plot(stats_in_min['Midpoint Price'].index,\n",
    "        stats_in_min['Midpoint Price'].values)\n",
    "ax.set_xlabel('Time')\n",
    "ax.set_ylabel('Midpoint Price')\n",
    "            \n",
    "plt.show()"
   ]
  }
 ],
 "metadata": {
  "kernelspec": {
   "display_name": "Python 3",
   "language": "python",
   "name": "python3"
  },
  "language_info": {
   "codemirror_mode": {
    "name": "ipython",
    "version": 3
   },
   "file_extension": ".py",
   "mimetype": "text/x-python",
   "name": "python",
   "nbconvert_exporter": "python",
   "pygments_lexer": "ipython3",
   "version": "3.7.9"
  }
 },
 "nbformat": 4,
 "nbformat_minor": 4
}
